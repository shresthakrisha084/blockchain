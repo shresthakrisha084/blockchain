{
 "cells": [
  {
   "cell_type": "markdown",
   "id": "5da17d04",
   "metadata": {},
   "source": [
    "# Installation\n",
    "Install Bitcoin Core first for Windows by downloading the.exe file from https://bitcoin.org/en/bitcoin-core/ and using the command-line tools.\n",
    "\n",
    "To start the daemon with bitcoind in windows environment. Open folder bitcoin and then daemon and then open terminal following that path.If you installed Bitcoin Core into the default directory, type the following at the command prompt:\n",
    "         \n",
    "         C:\\Program Files\\Bitcoin\\daemon\\bitcoind\n",
    "Bitcoin Core daemon should start. To interact with Bitcoin Core daemon, you will use the command bitcoin-cli (Bitcoin command line interface). If you installed Bitcoin Core into the default location, type the following at the command prompt to see whether it works:\n",
    "         \n",
    "         C:\\Program Files\\Bitcoin\\daemon\\bitcoin-cli getblockchaininfo\n",
    "         \n",
    "For mainnet:  C:\\Program Files\\Bitcoin\\daemon\\bitcoind\n",
    "\n",
    "For Regtest:  C:\\Program Files\\Bitcoin\\daemon\\bitcoind -regtest\n"
   ]
  },
  {
   "cell_type": "code",
   "execution_count": 1,
   "id": "c2c4ec64",
   "metadata": {},
   "outputs": [
    {
     "name": "stdout",
     "output_type": "stream",
     "text": [
      "{\n",
      "  \"name\": \"krisha\",\n",
      "  \"warning\": \"\"\n",
      "}\n"
     ]
    }
   ],
   "source": [
    "#creating wallet\n",
    "!\"C:\\Program Files\\Bitcoin\\daemon\\bitcoin-cli\" -regtest createwallet krisha false"
   ]
  },
  {
   "cell_type": "code",
   "execution_count": 2,
   "id": "f06fe39d",
   "metadata": {},
   "outputs": [
    {
     "name": "stderr",
     "output_type": "stream",
     "text": [
      "error code: -19\n",
      "error message:\n",
      "Wallet file not specified (must request wallet RPC through /wallet/<filename> uri-path).\n",
      "Try adding \"-rpcwallet=<filename>\" option to bitcoin-cli command line.\n"
     ]
    }
   ],
   "source": [
    "#check balance\n",
    "!\"C:\\Program Files\\Bitcoin\\daemon\\bitcoin-cli\" -regtest getbalance"
   ]
  },
  {
   "cell_type": "code",
   "execution_count": 4,
   "id": "9fe610c4",
   "metadata": {},
   "outputs": [
    {
     "name": "stdout",
     "output_type": "stream",
     "text": [
      "0.00000000\n"
     ]
    }
   ],
   "source": [
    "!\"C:\\Program Files\\Bitcoin\\daemon\\bitcoin-cli\" -regtest -rpcwallet=krisha getbalance"
   ]
  },
  {
   "cell_type": "code",
   "execution_count": 7,
   "id": "9ed89189",
   "metadata": {},
   "outputs": [
    {
     "name": "stdout",
     "output_type": "stream",
     "text": [
      "{\n",
      "  \"address\": \"bcrt1qa9rp60puagsfxyg8ercth79n8st79wmng8al3h\",\n",
      "  \"blocks\": [\n",
      "    \"3a04ade67725eed9f58e6b3f36a9bf18993c9d721f5f6542fb1ad12e9295b4aa\",\n",
      "    \"557e22383040d960af57a1a5d000d10c456220e0bb4d382572cc8131ec1e20fb\",\n",
      "    \"5bf03a7c711259b09b17712dd46b4dcfd305bc7d0677fb1fd61c0dad41f9b592\",\n",
      "    \"60a22c9b869387c39d21e508e19781a5b11b5c91b1f72a555f06b109969df2a2\",\n",
      "    \"7beeea0e74cd5bbc7a1517a7367331951219fe960521b28b9ba7b6bbd38a1759\",\n",
      "    \"39378ea3bc91f1818633ed8cab99313533d106d54f5541bcf3104bf5301bbeb8\",\n",
      "    \"6d6db6f3f8ab05779945b9b2e628332f321edc4c2550ae34cf01d7b5c0cf0f4d\",\n",
      "    \"4bad31f61f4c31c6547bc4d3a68856b7576c6dfc1c8ac9316206a260b3e7ee6e\",\n",
      "    \"53c4173e4e6c03fd038c459d1cd5f82f349fba047c3fb8bb20484b4696a88836\",\n",
      "    \"40175d1dd2734b63de68fdec82a3a95f8c79a49e6187ebdf8788d631a84af5b3\",\n",
      "    \"28423ca145f7650e2e286ab6f042565e4a5b53ad5df22745c229c88e025f861a\",\n",
      "    \"4df0bfa3825c95e20b12c1cb875be6ab35cbfe4b01df6509a3a2802ae8123698\",\n",
      "    \"616ea8307269ae20c1baf07e78b04eee14151788f49758451c48e20a461e12d1\",\n",
      "    \"4984ffe4c5bceabdb89e0050ce0902b365dcc79cf80087520b78d95c42e84e02\",\n",
      "    \"7da182931fd951260c41903c47d680be208e43fb1e248cbfc13ec8cc400c808d\",\n",
      "    \"072d049df69b20b51cf836f0d54f83d08bc4a5f026a7707d785020756b89f34e\",\n",
      "    \"32f9727f28ac876d7529bae6c84ad58b4c3e94bfd5219ccd3b74e9a52f74faa3\",\n",
      "    \"7fa638358684ca438709582296b4ba795c0ffe4e1912dd1249c939b5e889b90b\",\n",
      "    \"3b29c516a2b0a8a8c995d24a1edb17611c2229db50d2be74688c45a6d4ca63fa\",\n",
      "    \"1995a3fedc16d937c6f664638459c07f0f9812f37bbd6f58adcdd31366907f57\",\n",
      "    \"322359dec18cce19bc51adc6e4fd4acf103f16933f93d43dfdc814916c3e489d\",\n",
      "    \"07be3630792316367142d86c87807775c7f1db2fe6920a57069482351e7c9da1\",\n",
      "    \"71486b6cdae70f570d3458965c9fab6381085887dd2ad4612644b949386b61cc\",\n",
      "    \"5a594983c857765474166ea0641cee2e3ff3c807ad15eb39fb28c19ecc4684da\",\n",
      "    \"06fd0bd0afc6e8ed108497546c8206fa17cf6a0763c2654e014f0d4018e7664e\",\n",
      "    \"1085323828d05a494d0ce91f469bcd85618fa5c20f73c171eaf4e30f1bf0b65b\",\n",
      "    \"1d3b8adbebfd73c7422fc4893f86bd1ad38c3c27b7c1d0c9e886f471439c077c\",\n",
      "    \"456118002126614d69f388fdb2731aa3a6e92a1b601aa3c2e67073350ed7945f\",\n",
      "    \"21fae2a4db9946c3132ccb9f09af6b39026401b56bce49ea28a1e4999ab1d18a\",\n",
      "    \"135d1654dbcd8159eacb82a47477d65e4d2640b0ca6a35f577cd0fd195c7b3e8\",\n",
      "    \"6fe9f49798037bdec2ad0f68a33490613b46ed6b3a43a7ae43e63bd588bcdb3b\",\n",
      "    \"6dd9063595fe9550015ec7f211885f11d865a0bf083fa94b1253bfeefa3d9cd5\",\n",
      "    \"0d4eae8f4c8c641006cfa4683731536119e20b2bf72d6156086e81f8b9a11ff3\",\n",
      "    \"58740959528aa34e928a54213a2f4689c5e4d1c947eb9d0a370947edcd74f3fd\",\n",
      "    \"2d03eca43fc17ccf7ce36f992171f7e7a9068174755f7e93d80c16c2eb96c5b4\",\n",
      "    \"5476ee25f488b590c6be42282862ed4a99a7b363b1f43d9f9730f3fdb7ab755e\",\n",
      "    \"7160373ce4bafddda1b692485c733ba54b3bac852c0c6d55f74a530d111467c9\",\n",
      "    \"45f58b7dd8d4e58dacf2ca9588128dfb30dc7a4177118e73523cf63594abc32e\",\n",
      "    \"1359cb25453c32cc02c0cfe6241277c559c9bb35b1e2362854620d7d18bbb8c0\",\n",
      "    \"3a62ca590cb149ba586583ad5a155a24f405e2908eef23028b8710fcb2db4264\",\n",
      "    \"087d99775a1ce35c41307eb6925cfa0c2fcb3b81a6bd97eabf22c941adcfaeee\",\n",
      "    \"76d82183d85f3e76c4ce8c93541ff775c6f2d3c88e702cdc6bfa8c529a24ba25\",\n",
      "    \"38f26e270ea5521d77815c53d1d99ef94cba47cf42238e88d81c63ca74bf5650\",\n",
      "    \"0419bd3ceb2e6a491ea0ab22b66664cf349a96952f36ba3d50569ff154908b06\",\n",
      "    \"285aaa6a1d79ecf637db8695b7d1638b8df6674d364781450c8a5fcf599c4f88\",\n",
      "    \"55a531b48041146d0e484e6e8d9bd07beda1f1d5663f11899da837c197358c4a\",\n",
      "    \"14652d9df5116e839bba96a268fad2c05075131f98a3eb9d3fec478b765ba03e\",\n",
      "    \"15d0e3ae7f95dfc2f3fbd76f916e009eec325cdb6ced6df723bad62c36ccf52d\",\n",
      "    \"6c806da2ce463b6881e3381cbeb3f0d2160c85ccee1813f4f6bf7341fb758dd2\",\n",
      "    \"3c13893de5d9ef457992cfc4b9bbe07bae3fd54e60d56c87cd2b44e5d6cf8547\",\n",
      "    \"0e2eb9d6c3c284234ba2d7fe0b45db734a759112480b39d44312be61c66e5149\",\n",
      "    \"3e4d657b3add3a84f0af897581cc5167b4ac26acc85608356e5367606476d80b\",\n",
      "    \"612bc7879c1fbda70ef488a56539848142fabca5654cefa792908404ed3b40dd\",\n",
      "    \"341fd229af3587fa8e8f4c107761669c4fdf32904e28159a1f0f5397c09b1e9c\",\n",
      "    \"4595419d44ed3b3780b2cb4cd4e2fb51992f03493c3bdbb49df95e8b9633577e\",\n",
      "    \"25031495d57e6dc7892aadef6c09ad0578af07b8616ee94dc4cfe8be884d2c8a\",\n",
      "    \"5f3b53ac081c2077e69741475df482154c2b6d0dbd0aa18f8a4db2baa03bd17e\",\n",
      "    \"44f3ceb4fd0d35fa76e3ec686ca3de778710601b97d7ceafa8ae00213bd013a8\",\n",
      "    \"5d81b1634bade0670865639c773ab295e371b17d9257f3551e7a461dd6153b2d\",\n",
      "    \"093fe6faca1d977fedf19261f20924ef7016502bdf0bdb9e6c7dfbcfa686a447\",\n",
      "    \"2087b4fa5278aadd746701257faf8fa89600ba99eea43f8ed94795f7d33ae483\",\n",
      "    \"035d3beccb30db99d0ed609375b4672993b928b63cef008a22f5b5378ae36de9\",\n",
      "    \"0860fa901fb4836e7a64c5d262fa3ee7daab49ddc7d3450905dbe33206219bfc\",\n",
      "    \"4b163bd9ffaf64ebeb4a65476188a91d6ed4b9edbbdbcb0e13a319b048ee1a01\",\n",
      "    \"7a1975c35f2cbf4d135fda397828acd66f0065260c6e660cf85c5a0af5f45dda\",\n",
      "    \"1930046c421e5085efd19a86ebfe7552930494f18175965245fa6336d05762e1\",\n",
      "    \"7e32edcb5ef8318f25d45ef2a89ce1d0626a9766d01357c36e8efdfb5027412d\",\n",
      "    \"55dd1f3d8d64766ce21dd8960ff5de35f3abaf57f0b78f9a32b9d4ff1b170436\",\n",
      "    \"2b962b6d78dc4ff2c44bab3dd11371917a23299a81e88ce868b4c23b264552df\",\n",
      "    \"4653dfa5f3513c4edb3b4ac6874159a4cd2226da24f4b49c08447151dff153cc\",\n",
      "    \"16629688756d509b4e3e3c3b7bdd629cfb4036db3b221bd0481064ba8e9b1dd5\",\n",
      "    \"4c7d791fd5b6dbd6f29de963f2a2c67395fc8debbba99bbdec3fe07b8cecbed2\",\n",
      "    \"336aa5fe4ad430d7ea408f2d0256f4ce9214d49e57b63cf8c680ccc27190a827\",\n",
      "    \"55e6af375cc7c2f77b2f791644f1250de8fdc1694356fb1414ed3c5eb3027881\",\n",
      "    \"2a54d20ce3cd80962ee7d48caac5cebd8d53969fb5aaa688784815755d2a22ea\",\n",
      "    \"2dde85f7ef939abd6552cd6cb4265632ab16c8a71b96e71641ecdd00dfeaeddb\",\n",
      "    \"222991a38536d766a3b020129432dd32f355bf2cdc57bffee5243ad730a85fe4\",\n",
      "    \"7647214d59686acea638830ed95bf12b0375567f98d6e4d5401d131b8610eee9\",\n",
      "    \"2cb7a4b02ea1c8610961bb8a2214934584c45c3e922d8ea1abf14fafc6244d53\",\n",
      "    \"6ebe6c88c2c77aadf7a097644214867b1ebfbdc0ccefe99216bc1ad8356f5a26\",\n",
      "    \"7eabe4a222f4d4ff04616ea8acf063d9d800670ab241e929f3285901931dc393\",\n",
      "    \"0fee8c16a78910f2f0945160f325b5f947d03739c7eb17ba659b970cb92281fe\",\n",
      "    \"2560a302d0d7b0334b9dfcdebab983ccfa09b3566bffa5f9db5d1b4e7d04a3dc\",\n",
      "    \"38d9ec718c25eb2012d8053bbe696db02b7337089c9ec7477ed9cd02a15e80d2\",\n",
      "    \"418b340f4a06408868a199259d4ee43078455158352cb78d576dc70f4beaa49b\",\n",
      "    \"265253ef9ba10f352d1e82da8d2f75fd9cbb676d5fb94c1e948bfc7b4e7eb5ab\",\n",
      "    \"16171bf96ce688192b80268c4033b0244419b257c21679c9e5a3cb95bd1505d5\",\n",
      "    \"689983103e3562a04bb6c13dce448acff68faa370bb144d001ede906ba6d24b7\",\n",
      "    \"0b467a5153575c609b0594b0131e1ac36b05ddf2e3e39db09d701791e9afe30a\",\n",
      "    \"364e04fa17215ef524a5a17beb296eeb806affaba6bba5123fd01ecd73bc9583\",\n",
      "    \"2a3f197d34ff4d920418fde8c2ad34a05faaf7f808d7426f76502f5fdac4ccb9\",\n",
      "    \"6e682ef091026c39d8cd585dc389568d20e40a58c5a3331cee133e9e6a82248d\",\n",
      "    \"5148159eb576de9ef57076de41cc16a301b066b9d952ef4e69b296fa5b99b499\",\n",
      "    \"1f002b5256a5389e01619a041030fc91c31aa5bc1cdb2b23e573fecea698bc72\",\n",
      "    \"372212a2b7564de6191c3222f7e8ba290b3343c024360d358303e4d287ee7885\",\n",
      "    \"79facab429f40f3ae2a374a22e6da803e5ea57866052dbaba52ba75de7be6cb1\",\n",
      "    \"791f9294d40c2571112ba97771c0302e9808445f7fcef78d27a270f6f7b33a04\",\n",
      "    \"76f1c378b8e9e06c81b86cd826457c4f6e4e478fe1cf1787d24907cb2a540984\",\n",
      "    \"6829c0c5549ff99b930765a0d703cb4f0a09e3a8de1285881f8feb12e5e1171f\",\n",
      "    \"6a25b36de6dc7ce32cca609664ffe930599e78810b061bdeac5b8b09e2378881\",\n",
      "    \"6b42592ae2cbf5f61080ff292f4e1d832dd8ae622156c5124fba2c35dc633cd5\",\n",
      "    \"6fb728435aa7ea27b13c969d2ab7897253d8735f3fdeb66802c3506290543c13\",\n",
      "    \"21772001e97b000dd208aad65cad1a72222ef28fb1fdf209373e3ebd50a284f7\",\n",
      "    \"4a94b47226a32af3950fb7702786ef0fcf4e34ce9beec1237b7ce62d042cde89\",\n",
      "    \"70af3912a1f81b4d03283ad55ad92efe6c64cee4c65ca7db5c82fd9ba71fd780\",\n",
      "    \"32ea535e539bee6443c73ba3c8c4fd9db78ff8fa2924bd6c45cd34f9e4851790\",\n",
      "    \"7fb60eaa976dd4a74a9f32115a0d801f5a1e2bf9aa93e6e28bd0f1409f7c218e\",\n",
      "    \"45ccef7bf03e96d44178cdd194e44d262016e0ad86864b2c64d36911f957479c\",\n",
      "    \"46919838663fdcd433f6df14af0517eb16f8620e5d2cd16115a74ad34c48aa87\",\n",
      "    \"61c31bf3789fade1fbdeae3cbd397d54d4a12f9acc62564db4758e3fc96247e6\",\n",
      "    \"7f52d047dcc694b3320967b4475813080abb8b168b9e4abf06513228f6622055\",\n",
      "    \"7791cef5571404266ffcffba4c18ca11633adc58bb0927fd63a5422d3238f71c\",\n",
      "    \"54bef391f1fa621c55e523bb8406f7b5c34f1968ab053e8356ce6028a88116a9\",\n",
      "    \"704274f996ca3e474a35589a30bc9b067b6db4a3d603d6affbcbd11e2b8aae29\",\n",
      "    \"6fe8b1e010563e4cd9c7cd056c657f9a59acc34ed89997ddcd7b3610b5f35be7\",\n",
      "    \"0d11a52edbd77c1de429d646dca8188fdbfe59106575fd739e9553ad8d9a5735\",\n",
      "    \"1eba393ca795049e230033a89d01c2c4808893a1ceca70b3908723c35d4ab92a\",\n",
      "    \"4cce42ac5cb4e7eb83201daab9a5ab8d6a21e2fd5f8624cb31e1323b4e8a5987\",\n",
      "    \"44a172823ae93b5f08be82210f531d719049c643460a4b57ea7afd4ecc6a2955\",\n",
      "    \"2cd192e1edabc96bdee6dc846ea281906417f2fa764ca8903284c2832d82ffd4\",\n",
      "    \"401c1bc0f917540182599b50fa9cfad2f6a1cd95b102fcf90e2b0e08edc12079\",\n",
      "    \"39008b0e30ee9f239c90a4d5a7ec6c56790d04ac69623d8404b9c56ea3d66d65\",\n",
      "    \"58f307089254fc1ba6b7a2104bd56a2a61b7f138114383c14052a69ba57d5ff1\",\n",
      "    \"35b8c1a2102d840f8022ca479b087b477c1be19f975c3a85df71eadd0d997158\",\n",
      "    \"66807cc5233a170a16a01e2f13026dcf7209b4e9f4f86403b97be537d26cb2c1\",\n",
      "    \"0ea480a4afd0ef5deb4460192016e9942d0892e38ad5ea11d29c23f1e027fc16\",\n",
      "    \"030d3fc2ef01b6abdf3eacb06a4f98fe496685e70667ce76c044ba2558311be5\",\n",
      "    \"690023975960bcaacba8dd86d9c3d0c792cf65eafe2d26abf295b09e3590601e\",\n",
      "    \"1cf803e0113a59656d863ab0c8e4340f6562e5b4e3cbfefb5208f14361ebf0d9\",\n",
      "    \"464acddebc523f4af74472f4abc51e509a2cb8adbdd77404e68c146cd040a668\",\n",
      "    \"129c3f69cf9fe08a9378716e1d5fb2f83bde19eb562f2ac046a67890d0d2bee5\",\n",
      "    \"54418fa0543bba16a076c58555f13eab22dc05a5b42c11232aa15ddb7b0ed3d2\",\n",
      "    \"2baf89c3d074e0ebc2b8c50f80cccabc727c404ff384417bef66163c469da26c\",\n",
      "    \"571c9583e8c7faa5c2b5b0c42cc060512feef615ce6d5b6ee6a2d8301d453446\",\n",
      "    \"6c1797b38d37e7113bd544f44f71dd0fb51df1d80993c31314c6862239adf56b\",\n",
      "    \"181eb4f88fc5528b2674ff7497d00bed94867c096f76c24b1a92e3d31dce0667\",\n",
      "    \"20d8ffbd49ecc70ac60717e44c56897cdb3cdae73e13e89773d37abaea8b3f59\",\n",
      "    \"3938e77ec0b43917f2b4d0b4d97b49b6672c9ebc9b80f275af3d4c3b88de19f6\",\n",
      "    \"6d63b52c7f6a872550c32b3d41156378267f5a5545419aa8756653e8583cb420\",\n",
      "    \"62bed451af15e7d6a95b5a5ef6639c7e6601ef3d360969dc839ee31ced661a62\",\n",
      "    \"15a1688d62764d28c2fc73815033115ccab20a199b1882c09f5496110835b89c\",\n",
      "    \"37288d956799e3419913822e03fbe0f87e253acf460d7f457be044158f2a9561\",\n",
      "    \"107a5adc75b6d2d7f7d41b208c2ef8a4317fe7f689c56e35439e2822a7dcf807\",\n",
      "    \"72795442a8d0162a65d24bdfce640452a7aaf4f14e0bb79dabc8f5a8b920b785\",\n",
      "    \"691c4ab9d0557a73f02d616c29bae321928c83504da97e2c068c1f729d89adb0\",\n",
      "    \"2e47804db93ec2f5d420e2497e9fa6481791cb45449226cb3c40b319ed483dc9\",\n",
      "    \"34d560160db93bf39694b35ffecbf74676f16396cc78949234fdf2f25f8f80f7\",\n",
      "    \"284015d2482c370a0825e9ec675bfd92cebfe57e5172c886d44b1cc19614e2df\",\n",
      "    \"1d4f3937033d5e3420440955e681fa3cef7b990829842a6b4ea7c57ea68730cf\",\n",
      "    \"73b524d25f426ad49f7f7bf55b49f62a9651cabaf242d512bd5bd4b03ece6737\",\n",
      "    \"0948df0ee40704e32290f5c57f94f7263c147c528a4bea06b7fde846a641fb92\",\n",
      "    \"7328fa6211e841455c6c5c274d6715f09da993c3271a32820f2d7e266ac411c3\",\n",
      "    \"4b1162bb01502a9439dadf8c068c01373d870185e3d26366da5f59421fc69c89\",\n",
      "    \"0f54c3d0e5b231d17e8858a162d4f98b49ab898b6712a753416a9e416c6069e4\",\n",
      "    \"39ee944b46977678d1f8c9e50ab48ace6f0eb0b15ce41aaff82d1b01e989562a\",\n",
      "    \"1ecce5a80728deb26ca6983b44ee025b3be2feea413cd9099b171fcc884da351\",\n",
      "    \"6b4225d756f7b440c74fe6793664189fb7c19b37074681e3be059a664cdba8b7\",\n",
      "    \"4c555aae24196fa12fd3569aabcccf606bc14fa98b841a65e2664660938f5b69\",\n",
      "    \"69d620ca7ed5b62a64c262b5b2cddc9a05c1aa82276bdf73bebecbfb2f10399b\",\n",
      "    \"488476c1bfa3831c5d53ec9b41dd03fa23cfc018014d549eb0457bcaf0da0350\",\n",
      "    \"4493baa631b4226949a4119a5417646ae6441e5f4dfba56ef65929899d05004d\",\n",
      "    \"077a53a900cd1ac9890f39b3e4e1f457e5888cbad5ed5b69ca26c24b56557fd8\",\n",
      "    \"11f4bdaa8cec9a42de52c23148c3172b73a43ae361179f17fb3f01b3e6aa2f95\",\n",
      "    \"466d6cd4a1d001c2651f9525b87958c1e238fa590a8ec144ebf4074ebdff0dce\",\n",
      "    \"2592416468ebe52688927ebfc1c380acfe4287dd333c709e9734c4fff60131ab\",\n",
      "    \"3dd7a792ddbf7e401ae1075219eaf2504cda45ff952bbabb5b1a83404e1f336e\",\n",
      "    \"323f3b5be5833e2b5e777a136e3f3b1b5096fb4fb4e25af0d47a990ad5390fdb\",\n",
      "    \"6d2d83263182b6a017248ed3151331d05a71067025609d7d917dc3d17f7a2241\",\n",
      "    \"4f7deacda58bd834aa6f0751e53d1c4392c7f4405b46b9516911ac0ee3dbd864\",\n",
      "    \"6488d723328ee684a8e3c125c19e5e15cca9f38b1e390286f71f6748cc95141c\",\n",
      "    \"29000ba55d78ad543f7c0bebbe38630ac06cb600061271f730da177212be445e\",\n",
      "    \"5ed37fa6e3f7c758b3f6d0fb370b6dc77b79793afa66c4eff9121bb069f01bb2\",\n",
      "    \"4d9852b7fb5d6cd3d1b705c026b89b1529c88935d7d21ae2c19df996cbd2c083\",\n",
      "    \"0a8766e7860b1cf6c4ed27a704da8cf783de83b986eea2f3eb164969c65eadb3\",\n",
      "    \"0940a4e274d576a1cabff771a8923a90ca4095363061b2b88160b0bd91d6a467\",\n",
      "    \"54490003d9f3b98adc5b6022c7fb09509cce693e7d580480a47857cbedb85d12\",\n",
      "    \"53032f33314437cd1ebd72ffff85c41ebef641c2e2fef3ac59b88110abb50dd4\",\n",
      "    \"572cee6da1655b853a66c3ba18f8bbadf3e296da75102129e7b7d723bc1cde03\",\n",
      "    \"25ee1cc145a8eebfeb8d5d4ddc901438efe15b9ec3756dad13e3356f7f64d5c9\",\n",
      "    \"208f1bf312116884a8eb82bbe233701156645271099ae54abf2a9622378d8827\",\n",
      "    \"618cea58039e73496805b633217c5767e81a1cf613bc2f627a93802d29ea316a\",\n",
      "    \"28dee8dd798178baf07adf7b5966d9c2b49f75c687a7ffe7546a0b98aa417115\",\n",
      "    \"1c890fbbfcaea9c47ec3768c01e72284ac2339aa1db77d4245a53bf1cfc08c99\",\n",
      "    \"496bd229bab497ebbfa90266d415d1d3760b767f45d0a2279c49b9fd60bd154f\",\n",
      "    \"2ea236fe904ea97c04eb9ec5734781a75892b4825cf1dc8692196076a9be727a\",\n",
      "    \"10f5ffc1656faa54e1d405a2a226c4e5434b0567ebe6c3ec73d84aa3b077d0e1\",\n",
      "    \"73b550dfcd3c6c304b31fb49752b561c7bee9d5a5ca556f714ebd03633505afb\",\n",
      "    \"65a3e595af6412dad9036b10e95464616cc09ed129dc95220c5dbc497e203b76\",\n",
      "    \"17cf830ccbb73a2b55eb80fcda305459f526a048e03c58690f3d5c18dfa2ade0\",\n",
      "    \"511f509a9d6195557ba7a9a064d8fbf2eb67f3f8bc064a009662af553ca04c3b\",\n",
      "    \"6f4c0a4027df19d222489596cebe56f6aacc9be1e6caaf2dd6cdd168d5d84df6\",\n",
      "    \"62474e7a8ff92b03e5a9e1c04c10e0dc2e4529340c2e5820921e32b8c1e436a1\",\n",
      "    \"55604b894b0759e59b6a601fde85d3e14a5fb256ad2f1ed642e555ed23f70ec8\",\n",
      "    \"254a768169f163a7cdc7383de116686e628d4d764dfb0bd7d37b011be7b78acd\",\n",
      "    \"1644623ef8a41348d519f178268409586481fee4974590d77b9cd4ae96c7ae94\",\n",
      "    \"19431f89d6d16463d7afd7331e15dfad0dc35e78dbfe8a96043cd996b22c0ecc\",\n",
      "    \"2cea8b4ff6cf2d2a0ae708b74ca404d79149ffda4da79b6f570e6587549625c9\",\n",
      "    \"67608d4c5a1db9f558daddcfec70826d8e9db26bc7a5d5737f013f18dab3a243\",\n",
      "    \"6e872b9bcd1dadb5ecfb50b89c8841c383c2825e4736072ed64230bcebf695f8\",\n",
      "    \"0cc61e2b2fb88d39de7f67fd1705a7b7b291737f94aa1372364b2bdf3fcd81cf\"\n",
      "  ]\n",
      "}\n"
     ]
    }
   ],
   "source": [
    "#mine some blocks to get some coins\n",
    "!\"C:\\Program Files\\Bitcoin\\daemon\\bitcoin-cli\" -regtest -rpcwallet=krisha -generate 200"
   ]
  },
  {
   "cell_type": "code",
   "execution_count": 8,
   "id": "db174142",
   "metadata": {},
   "outputs": [
    {
     "name": "stdout",
     "output_type": "stream",
     "text": [
      "1553.12503525\n"
     ]
    }
   ],
   "source": [
    "#checking balance\n",
    "!\"C:\\Program Files\\Bitcoin\\daemon\\bitcoin-cli\" -regtest -rpcwallet=krisha getbalance"
   ]
  },
  {
   "cell_type": "code",
   "execution_count": 10,
   "id": "6a0cb107",
   "metadata": {},
   "outputs": [
    {
     "name": "stdout",
     "output_type": "stream",
     "text": [
      "{\n",
      "  \"name\": \"nikisha\",\n",
      "  \"warning\": \"\"\n",
      "}\n"
     ]
    }
   ],
   "source": [
    "#creating new wallet for sender\n",
    "!\"C:\\Program Files\\Bitcoin\\daemon\\bitcoin-cli\" -regtest createwallet nikisha false"
   ]
  },
  {
   "cell_type": "code",
   "execution_count": 11,
   "id": "7335f967",
   "metadata": {},
   "outputs": [
    {
     "name": "stdout",
     "output_type": "stream",
     "text": [
      "0.00000000\n"
     ]
    }
   ],
   "source": [
    "#checking balance before transaction in nikisha\n",
    "!\"C:\\Program Files\\Bitcoin\\daemon\\bitcoin-cli\" -regtest -rpcwallet=nikisha getbalance"
   ]
  },
  {
   "cell_type": "code",
   "execution_count": 12,
   "id": "6ecdb76e",
   "metadata": {},
   "outputs": [
    {
     "name": "stdout",
     "output_type": "stream",
     "text": [
      "bcrt1q6xpeeff2vvuurmfpnhwalgg950v365yah2lhva\n"
     ]
    }
   ],
   "source": [
    "!\"C:\\Program Files\\Bitcoin\\daemon\\bitcoin-cli\" -regtest -rpcwallet=nikisha getnewaddress\n"
   ]
  },
  {
   "cell_type": "code",
   "execution_count": 16,
   "id": "b0c00bd7",
   "metadata": {},
   "outputs": [
    {
     "name": "stdout",
     "output_type": "stream",
     "text": [
      "95c2ed9c4aa9e23157fa7a34467f8fc389166d53c99e9a4c52e709056cb16e08\n"
     ]
    }
   ],
   "source": [
    "#making transaction in nikisha public key for 0.5,Send 0.5 BTC with a fee rate of 25 sat/vB  using named arguments\n",
    "!\"C:\\Program Files\\Bitcoin\\daemon\\bitcoin-cli\" -regtest -rpcwallet=krisha  -named  \n",
    "sendtoaddress address=\"bcrt1q6xpeeff2vvuurmfpnhwalgg950v365yah2lhva\" amount=0.5 fee_rate=25"
   ]
  },
  {
   "cell_type": "code",
   "execution_count": 20,
   "id": "b366433e",
   "metadata": {},
   "outputs": [
    {
     "name": "stdout",
     "output_type": "stream",
     "text": [
      "1552.62500000\n"
     ]
    }
   ],
   "source": [
    "#amount after in sender transaction\n",
    "!\"C:\\Program Files\\Bitcoin\\daemon\\bitcoin-cli\" -regtest -rpcwallet=krisha getbalance"
   ]
  },
  {
   "cell_type": "code",
   "execution_count": 24,
   "id": "282ca327",
   "metadata": {},
   "outputs": [
    {
     "name": "stdout",
     "output_type": "stream",
     "text": [
      "0.00000000\n"
     ]
    }
   ],
   "source": [
    "!\"C:\\Program Files\\Bitcoin\\daemon\\bitcoin-cli\" -regtest -rpcwallet=nikisha getbalance"
   ]
  },
  {
   "cell_type": "code",
   "execution_count": 25,
   "id": "5e632f66",
   "metadata": {},
   "outputs": [
    {
     "name": "stderr",
     "output_type": "stream",
     "text": [
      "error: timeout on transient error: Could not connect to the server 127.0.0.1:8332 (error code 1 - \"EOF reached\")\n",
      "\n",
      "Make sure the bitcoind server is running and that you are connecting to the correct RPC port.\n"
     ]
    }
   ],
   "source": [
    "!\"C:\\Program Files\\Bitcoin\\daemon\\bitcoin-cli\" stop\n"
   ]
  },
  {
   "cell_type": "code",
   "execution_count": 26,
   "id": "37004dd0",
   "metadata": {},
   "outputs": [
    {
     "name": "stdout",
     "output_type": "stream",
     "text": [
      "Bitcoin Core stopping\n"
     ]
    }
   ],
   "source": [
    "!\"C:\\Program Files\\Bitcoin\\daemon\\bitcoin-cli\" -regtest stop\n"
   ]
  },
  {
   "cell_type": "markdown",
   "id": "8b465ba5",
   "metadata": {},
   "source": [
    "# Conclusion\n",
    "For implementing a Bitcoin Network using Bitcoin RPC, we have use RPC API for Wallet RPCs.The wallet RPCs are only available if Bitcoin Core was built with wallet support, which is the default. \n",
    "The mainnet network of bitcoin hosts the default daemon, however testNet and regTest are two additional networks that can be used for testing.Here we have used regtest Because the network is hosted locally , it is simple to construct and test.\n",
    "\n",
    "To prevent data corruption, do not force shutdown of your computer from the Windows shutdown screen when you have Bitcoin Core running.Using this commands: \n",
    "           C:\\Program Files\\Bitcoin\\daemon\\bitcoin-cli stop\n",
    "\n",
    "           \n"
   ]
  },
  {
   "cell_type": "code",
   "execution_count": null,
   "id": "2d453419",
   "metadata": {},
   "outputs": [],
   "source": []
  }
 ],
 "metadata": {
  "kernelspec": {
   "display_name": "Python 3 (ipykernel)",
   "language": "python",
   "name": "python3"
  },
  "language_info": {
   "codemirror_mode": {
    "name": "ipython",
    "version": 3
   },
   "file_extension": ".py",
   "mimetype": "text/x-python",
   "name": "python",
   "nbconvert_exporter": "python",
   "pygments_lexer": "ipython3",
   "version": "3.10.6"
  }
 },
 "nbformat": 4,
 "nbformat_minor": 5
}
