{
 "cells": [
  {
   "cell_type": "code",
   "execution_count": 114,
   "id": "78db0a1a",
   "metadata": {},
   "outputs": [
    {
     "name": "stderr",
     "output_type": "stream",
     "text": [
      "error code: -4\n",
      "error message:\n",
      "Wallet file verification failed. Failed to create database path 'C:\\Users\\VICTUS\\AppData\\Roaming\\Bitcoin\\regtest\\wallets\\$krisha'. Database already exists.\n"
     ]
    }
   ],
   "source": [
    "#creating wallet\n",
    "!\"C:\\Program Files\\Bitcoin\\daemon\\bitcoin-cli\" -regtest createwallet $krisha false"
   ]
  },
  {
   "cell_type": "code",
   "execution_count": 115,
   "id": "eb211679",
   "metadata": {},
   "outputs": [
    {
     "name": "stderr",
     "output_type": "stream",
     "text": [
      "error code: -19\n",
      "error message:\n",
      "Wallet file not specified (must request wallet RPC through /wallet/<filename> uri-path).\n",
      "Try adding \"-rpcwallet=<filename>\" option to bitcoin-cli command line.\n"
     ]
    }
   ],
   "source": [
    "#check balance\n",
    "!\"C:\\Program Files\\Bitcoin\\daemon\\bitcoin-cli\" -regtest getbalance"
   ]
  },
  {
   "cell_type": "code",
   "execution_count": 116,
   "id": "d7cdb1f0",
   "metadata": {},
   "outputs": [
    {
     "name": "stdout",
     "output_type": "stream",
     "text": [
      "{\n",
      "  \"address\": \"bcrt1q4x6x3jst0qzw5chm5xtyg5t93ps2dnhn22lj93\",\n",
      "  \"blocks\": [\n",
      "    \"526d1dfc08e34f0b8e647a0275993ac2c379634806548c894592298b06c5e524\",\n",
      "    \"2d9941da2797ef18dc7588cb7325f374a41818a4c49bc3e0feb1c6b4764c4f7c\",\n",
      "    \"14c59e0edd8964a2b982a0e6807a9614ec7f2cbc4fbe4e03e5cd8539d7f70c42\",\n",
      "    \"0edce18e06123e512cf4f7467c258e5288016ebe5c8c282ebf3d6f6724e73d03\",\n",
      "    \"3b7626be305a454e0c3d71992ff3483910ad408dc8839c65176d628f90a4cbb5\",\n",
      "    \"4b5038680ee7b3a2091c293e037b0210f1b94d710e28211b8463b4beda021a57\",\n",
      "    \"11a8c0d47802a2f39ec3d00747ebcc6d2ddf133020b7681df4e0829b7afc6896\",\n",
      "    \"057d63ce70e151eb0f8f89832476747166249de468397065adaf429a8abe7fdf\",\n",
      "    \"1f63d96d09cd42c28c102850ad637914fcbedb172a87e4dd17f40fafce4d2d97\",\n",
      "    \"6b2a3b531800f7cd72bf42b3e2be555ab5a28928fde10ac01bf3a7cf09bfc078\",\n",
      "    \"4f221cf77db75956d26be874af2d5cc3685440f4d8aac10de6ec2f64a62dced6\",\n",
      "    \"1ded293781148be3c408207cc3bab962871528e5dc4e4bb1a280a7434ca2c279\",\n",
      "    \"7a9e933b693c1750e54657c332ce2ad8e46b9ef6527991420613ee29d531f6f0\",\n",
      "    \"3f90bb9bd3f3fcf31e4a127a80931f80f7996b4f41f43f591714669e290adb4e\",\n",
      "    \"5738ff3c9a41dff53c96dabe352facc9ce419d8e179e3bd024f156f811702771\",\n",
      "    \"40349c9aeb90ecdc38deacb00f7c053872aeb7c801edac6493878059354c22a9\",\n",
      "    \"031e540f3f55b93876911b5f602bb0fa8cfec2796007754d7858239cf342afcb\",\n",
      "    \"35ca826939410337930cd68350159ea2a482575dfe497fb85ab3c56f27a39c3d\",\n",
      "    \"6c9e4daf070fa3cbd1497008613801080110aa985fb77560ec5ab5e5998ebd26\",\n",
      "    \"6750dadee315a146ef23c050df95cc70ef383c3ce1f749b6c8832762e3566959\",\n",
      "    \"75c7b45aab0c6aa4c098359eb79b32481b092d4dc90f00a88d9422c2f430da3f\",\n",
      "    \"71da4a4f3be1c2f28d18f04ed7b2249216e2029319b53b821be428786f684f8f\",\n",
      "    \"1098173237e3177db39d7787c821a7c1b753d9cd5186eed6dc4e59517d7a7187\",\n",
      "    \"010c0d1398e82ae585f8e2f636e7dab2845762c30988b4e326353b0590d6b626\",\n",
      "    \"3932623e42abc41ba939026c3e3bc8eefb998f27b89151d8341aa58690f7fd4f\",\n",
      "    \"4b3535a64db5d8914ce543bd738554f8223f0db21db7c2671ed9d6d4c1ce8b75\",\n",
      "    \"7d4c84bce5bddb11a792283d57915fb00d5fe253ba179bb4314c26329c39b551\",\n",
      "    \"2c31ef03ae07021bc79726703fe7aa35c7fd42ae0bf5d9e4cdde42fd45c04af2\",\n",
      "    \"556a64e6825716209632e54bae7b38442c7f8f9ef1ba80b913bac1636162c50b\",\n",
      "    \"2cf5be506321fb8b56bc7cb83052dafb244b1f6fd69de57106920be332b89332\",\n",
      "    \"1e5ebc8f5d4d40a9ce419a03b1d1d6a18dd99f34289769a70ef15316b605d6fb\",\n",
      "    \"5380e8e5837f73915b01fb50e607f1271008bec47169f95700cd7b0eae684086\",\n",
      "    \"71e0fccf855476e67c9f57f084579e2be877fe056c8970ab418ac567fd5f1475\",\n",
      "    \"06bb6f1290f919224976511051e13793a51585e173527872618014bc8fa1c873\",\n",
      "    \"0df0246a0774f450682d3cec4b2ff5aaa30f96996c9642096eb8517491f0a748\",\n",
      "    \"44ce02df529fb72954965423105660cf80c35ed93d226aaf87b6d0f7422dec6b\",\n",
      "    \"3492a395595dd66e5be5dcc37acd0a2550639f7a02d062c1fbca7f506737dee9\",\n",
      "    \"6acdf1857bd67810b9ea8953db6f473356abb7229d71a4b2f2d64f4c8a07fa13\",\n",
      "    \"5e1ee938571d812dc69aeb49d58bd25dc53fcb4c738c4d242cc01f4dd8349aff\",\n",
      "    \"1e9f9dba90a7c5d841e26224d408324a7ebe00f1cc4753efbecac5f306431f27\",\n",
      "    \"357d011637f753fafaabc7a3514ca7531e90bdf83506dae4a67500bf88de1f0c\",\n",
      "    \"29a3339ebaa444de3a7fc44c0a0a18b590fcf2b78ea45ee92a464356569450d4\",\n",
      "    \"58bbd5f986ff526adfb62e22c0dfba6966763c24b520a45d9f90f5d3dbad75c7\",\n",
      "    \"1074a1b2a8f6befaee44c0d197c7cb276a1e0caebb530851735976a26c9a10ac\",\n",
      "    \"5c08cf7819a1a356ddc4ed972feb4862ed63b404ea6d754256341271bb513d21\",\n",
      "    \"1df98a6c5f656ffa9b41ff84672f0d88b5d84cfd771ca233e2285537e85cd97b\",\n",
      "    \"0e1ca020bb6731b967528ed323710556183f7cf57e018f75f07ceac805a25c81\",\n",
      "    \"2788cd200c5be6870403b4e38fd94538d9c7df2ee478306654f9304314ee8eb6\",\n",
      "    \"5873ef632d1173f7a808d6e3025ed2ea75ac44b7ea34a97dcc243985824668cc\",\n",
      "    \"6550ad7997a9e76ba23b15dd870316dac8d965c3f5b5f52777994b3d02be6dba\",\n",
      "    \"2f2c365b43665d202e52fe1d21726b920fc1062748bbef5e988b87d1eb616585\",\n",
      "    \"7ab4103a89a2c60ae4e5f63a07a06207ee2444842ca12b3bc703dbdea5618f6b\",\n",
      "    \"38a27a472a622f42aaf0531754a82596c1d518dd5cae2839ee3229c53c745fa4\",\n",
      "    \"0d04090081104d6d851660b9cbb7dab9d1767057dbc0fa0efb9002e50251638a\",\n",
      "    \"1de5eb057fc62068851f6ccb4c9985e5d8e006f7689a4f61bf9cbf0087ea5415\",\n",
      "    \"1e3c355ea65d461061d684549cecac8e36b093c2033f79845b9269bef75cd687\",\n",
      "    \"608cf6939bfa52660b1f95e493aaf888fad3437053b7d161c4cc99705cabe322\",\n",
      "    \"269684695a18963d314a9c6440ad61cb9b7927b98104d61f3ae7d0b7012bf79e\",\n",
      "    \"64b3bcefb61687b6b7fd8b01638802d5a00464b803a275770acd5db0e9ae5d7a\",\n",
      "    \"7fe221e7e244682d02dd45dd9d9add9b91e52b039c119c6499cfb91a99824765\",\n",
      "    \"61c3ee133e6aa8c50593e6b5b3fbd6b1c9cb128ebb350b32071a4951e5198fe9\",\n",
      "    \"5e0f914a8d09feddb9476b3cc6ac71f996153db7b343155de25056b43410ea92\",\n",
      "    \"04876caf3d437c1615b90a2c7fdbd6c6b958495d8b4a94fe75ed578a8e7d6a32\",\n",
      "    \"7e443bd78edf99749bf960c3d0ee4bf80f5a12f32d0c1d4912fdf6351d7b87ae\",\n",
      "    \"5fa32eec2111fa011703671ef1813c0b6b74c010d583d5a84b4ecfb13178056f\",\n",
      "    \"776ce277cacefd168402b950e13834c1f343e2de793d5f60d1ef60b53670dac3\",\n",
      "    \"1a2b9178198e74fb0997e2166a4114ebbe0a25392c3b5393d7e90f0c85707319\",\n",
      "    \"37302190ba6cab8f7d4103643cf5636f44accdde3871707d5ea113c2ba8baf59\",\n",
      "    \"18f8508c6b46409c72574a37c634f32af0d7bc9b2d57178be0e8b7aaafb6e9ce\",\n",
      "    \"39a6deea766ee3b2d2611213732a2824dba4cc4b0131bc86d224ca3c14dd6ddf\",\n",
      "    \"3187348857683ba1f1933b94643bfe886bd420fb2f4a4a53eee6ceaad19965ea\",\n",
      "    \"1fe5298030e869cfd871bf5f11a42133cdeacd681aea8f0cf4f6b46ae68bd4e8\",\n",
      "    \"333181204b5aa850cee5fae0a4534a1a91d6d2f74df8eeb603518275eb1c7f43\",\n",
      "    \"4c56744ed739f6450e2c49596d566d754c79e3b46cad8abd1e9b326fb9e506fa\",\n",
      "    \"125d8dec44da9a38bcdf6b7d237bb47224cd283fe302d0b457691d5141a98377\",\n",
      "    \"0c042e6469c54e0d7fe2f4f94e55ee12c63f330571570cc998da065ac1af81ee\",\n",
      "    \"4dff215076f22d202ce26a1a3847ddbd293cbfc5330f0e0350600d2f69a6d8d1\",\n",
      "    \"0d31317a7f433b8ea5ffed858ffaee212a23aa86274515f175bd24cb055d3cda\",\n",
      "    \"7e25040985769131c1adac8fea77a5790b9ae082c4a048590165da1a30f55aca\",\n",
      "    \"525a6332c833fb792a73e7167417f8154d4c3ad88c1eb345c06e9c2011a70e97\",\n",
      "    \"6d564a169cbbecfa86aa70ce0dc06c25736e06ea2ef56ee62e8b1804d771ce95\",\n",
      "    \"233af1c2e437f1da0e11ad85e4fbe3c3e66f1f3c446309f6c0ee72b4cabda542\",\n",
      "    \"45a919f070871e23a01665b9dfbe23e2f3065803af53affb687175ac7c952d3c\",\n",
      "    \"0f230def54ba899e6ed4eb6e055b2d9c9f14e9cc9047697ccc9118d68f8afdbe\",\n",
      "    \"647b49c41200776851d134d236b5d8dde337c20a5808d0f8df34136ce7cc8abb\",\n",
      "    \"43fea954b564d98c3e766b4764b50fbf2d9f09ac218071bd4fd6f8168ed9787c\",\n",
      "    \"008495fd7fc70387f95a56ed7069046bb5606cfabd6951fa15b440ae62aa259c\",\n",
      "    \"6e42c6002567e0c812582507fb65f56d0c3f28567a30200bda9407308a03eb4f\",\n",
      "    \"517c8a01e8bd6cd81ec0bbd3611af073e7388a57dcb69d3c6eeea843aeb72b12\",\n",
      "    \"158b1603ce7c7c58ab16b3d9bb00a1772de07335b609a2f3801351acd5423d3c\",\n",
      "    \"679f0b8b4a6e4a2897e590dfe83e2808bebdb8b332b6b66c4059da77ece0f8fd\",\n",
      "    \"47fadce30fc8e782aeaa889d100008de6146f48c04960794e8d9fd36213daa80\",\n",
      "    \"254e5b14b5a2ec68881c09c8635c92b6c8bc7f27e7aeb5e49c9be94bc18331fe\",\n",
      "    \"540f6830e19cb0c43b80de0c9b924f7f07cb081a2b4a21f5451bce9e2ff0c316\",\n",
      "    \"7056602d4877f720914454ddbdc00642523d9cfd4bc74a662efabc4181893a6f\",\n",
      "    \"01215f91b9563fcbb73e45462d749ee5e706b098020fc71a5dc177b6734d9e23\",\n",
      "    \"7c9ba1463c5d59a672d616c4b2d2dce55ec7a3ac0ba5af433cebfb887eda81a2\",\n",
      "    \"78fab710b7b668d4ea64b87e0758cfbb704577d1948fc31bae731f8e3960b4f3\",\n",
      "    \"2e37d92953f738c477e5c407c53c2916e5005fd5c992062791520c7f29c9d7a9\",\n",
      "    \"18793a26dabc7a54d4725daebacea2acdd2bd9b741f2843ead961302c2338656\",\n",
      "    \"6576341e6274ea4fbb3e8068810615d6501e1883e8e90f77be420676e9026a41\",\n",
      "    \"5b9fd5dfcc2ca30e53447433ef8a6113afe101f4a78e8379a6b8af8c84930174\",\n",
      "    \"4d7760020e2103c59c461c052626b204c890d3fe15889b1872a39057ff246b48\",\n",
      "    \"09f1d63a738609b441beb5286df4dccef683f2bebe61db33e1374b18cf2e4e02\",\n",
      "    \"2b515d0eee74b6b365182d85ff145eb56523bc0e5243e0c087e09925b32eb96d\",\n",
      "    \"5208b6c68536332144b6c3415fbc545a6313404bc65fb0306e7b3c3d1639a955\",\n",
      "    \"6bafbb0dfbc09ca5896d67da06b828ab0ba6ada5425c97cf663e7a8301e1848c\",\n",
      "    \"28196c4078bfa59697b04545b23f807bcd37fa2e3870b7a9521fc0049b3d0466\",\n",
      "    \"6bf8946b95253a7d1b13f28a80db1aec45d5fd559a33a726fffc1deeeecd8499\",\n",
      "    \"755d26526eaf267aab3ed1fab30a03b6e2264606844eddf4bf912348c2493424\",\n",
      "    \"05b97eeaa12a943376063583fa7af2c9a55a0119ebe805ae9e310a4cc3c393fa\",\n",
      "    \"37dec1429d6bc619f5dab3b6f768b339e9ec2a2514fe667ddc55a4235249d44e\",\n",
      "    \"653d83eac4b969b82698e700d065b569374ee1b060f1469fa29e4b5697a4319b\",\n",
      "    \"5982d967e537039b644177a81549fefb8638f158a94f2a5d54aed0970ed0db5a\",\n",
      "    \"648a5de8c5232033646e579b0fdb7594f62c28c41aa17cac58d7b3f2bfd30739\",\n",
      "    \"37a1c52a1e4e4fa81ea01a867a9c2e7505e9d1f2dec49b6bd3c8b89912422da0\",\n",
      "    \"26f9b6f26993b37f12ac1ba14080829adde2ad4b16b1dde68f0fee254dc34e3d\",\n",
      "    \"2f3bd408e39ea75123c741ee85be3d4c77982b14bf753ecc89376d6719051362\",\n",
      "    \"42ea7b0ef5556274c0a9478f4ea6e452470fadb87c0093db07028b494f5be710\",\n",
      "    \"025ebc1864daef8d4b49b28b656e4d084517b9869f3348bdb968524386b0f765\",\n",
      "    \"3c495e5383273eada696c18598fa9e2daa47e5e4ff1c394eddd9cd18fbce8a0e\",\n",
      "    \"2d9b557e5a5f54cfb612e66a20fa2ed644bbc9461cdf6d1cef5c472a3baebc86\",\n",
      "    \"5243ba0fe17e203ff5a95a37983b8435ad065f978c5a1a4a166d36d47cb54c12\",\n",
      "    \"4ded6b0ee0ced1448823cb2a1e0e39714e3193190ea477ffae0f67bef196fa0b\",\n",
      "    \"20edaa2aec307c41bfb56b5c065f260c62208698a50b01953c95eae56d6fb63d\",\n",
      "    \"5394773f70faac5b3941aae42ddc0ffca6c3b574f7402a912d0ae88dcf37bd37\",\n",
      "    \"610179c6b02524b41a1f131aec727213604cf37026dd03397a7aaa1a6cdec896\",\n",
      "    \"23db98d495cdbf289249dbbbc7f468dd09af7fe3dc2c4d121cd62be008a01cb6\",\n",
      "    \"57a1967c6964af543407843e03f344ed4e39914b2c9254ef10c18afd8f221007\",\n",
      "    \"4c295181284f61914895dbaede8b6362e308309c1d6af7b64f59bc1adcafb5e4\",\n",
      "    \"0969ff2df8ed99aa2986827bfaee645eb33229a566fcbe32530b9ff92331e9aa\",\n",
      "    \"2ccc74c9b20526995b458fed044a3ff11dccb4ab8ced8def4e00353ce5dd9c2b\",\n",
      "    \"73eefae2bfe5181e0afee8eca01bdf519a5065ac774a87a35323dec7f6342db3\",\n",
      "    \"2e5729be971d1a17b5f6aeb7ee86f4269e4a1196a1e88c5b686fec138861755d\",\n",
      "    \"457d194f50493bcb61e40ec625fed34bd92eb4b8aadc35e7d83ee10ffbe39970\",\n",
      "    \"51dab9c134cd3f59bb157b3e2da056bbefb8a9ce3b1524bfbe7763fea1467a1a\",\n",
      "    \"110dfcf76ca57f38ffc769bbd1d928610c09c6fe964cb754cdf0215e17b1a24d\",\n",
      "    \"117205ec3c81739cf85a4fde7efbfbc7b01a694564013966bd1593b67e6b6560\",\n",
      "    \"7b97fd15a7bacb98afce3a0668553f67e2a7eb7905f2f2f84215854aa106595d\",\n",
      "    \"1b0832c1c8af75867fac69a8ff911db845259ac431dfcc559413d5031d1fdee5\",\n",
      "    \"28aacf37f87d7fd721409b5514353ce92c8ba0b638a08e2b62aee99be2a13534\",\n",
      "    \"7fcf821a85b6bbbe4d6af5f03f37983b2eb12006f6b93e8c5a24aa20cbc788fe\",\n",
      "    \"2c7bec5f1d38906a1edf2180311adab7feba2dbbee6864fe38067522ae7eba60\",\n",
      "    \"0c42aad7113512b57cfd0ce35501e05c959c43fbdfe816cb67869488f224c1ba\",\n",
      "    \"437f776aac853cea03b117aad596bc813135538a1d1ae9a5846f10698f46a6eb\",\n",
      "    \"3045af240340c29165ef3a25e18e02d8580cd4b6cea6b3116bf0bb9c1bed54de\",\n",
      "    \"3f60bf3a02a2983a29862a393c4630fbbaa99eb9660db3222436bd0c11815562\",\n",
      "    \"0d408be5e5a26cc7f6cae8d4c534fe69e81c99916fbf2126b658318458dbc356\",\n",
      "    \"59555bb2b21aaf2c5f7e58313e02bc7fc0cac7b89ff925dd4a3b4cc511671675\",\n",
      "    \"6804c1dc4ba0d0a548226faac36ecf74b37ba33e5ccaf608f17a0d59a22ff3b6\",\n",
      "    \"6c76bcf226db7fcc14a2f63b9fcb58d7329cbc71ae01383fb86ee79d6416e293\",\n",
      "    \"4207d4de44d112b6325b7df0b567a5f8e76eb974a07bef26824d11d3fb16dece\",\n",
      "    \"0aecfb9e0ab74caa239fab4f66487f191a8f2715968ac31b66b562cc6c64352c\",\n",
      "    \"5ac32c90f965d7b200a4eb32a3c037ac9756388fc74f63700eceb21c1baade41\",\n",
      "    \"6c42b602aafdac97cfc301ba78b5d59ba593b9569001a8f030f2410b0406387a\",\n",
      "    \"2863d3c5cb2c6f5e26b4f04cc4c8107837024b6917b77caf9dda027c6634c37a\",\n",
      "    \"7d5d27a87614059aefa9495cebb68bcf914be18a22312b4810959850ca2ffbd2\",\n",
      "    \"3dcead38188ae61dae6c60b80d45ed40b6c3799db93df2da6a4825b81b3b12d4\",\n",
      "    \"26cea184e65d9b6b2cc2f2df42f55cdbf664a00e48f74a8fe10099d15f682270\",\n",
      "    \"3807ee98ed467dd553bb4f6f7a3828f1bf2785f3498b33adbb9cda28a01645bd\",\n",
      "    \"25c0a485627f8ee479fdd9a379cacbcb62106cdfac711f1535ff393d576021ca\",\n",
      "    \"0bbfdd08dd83d7b226dcb757ddb38b3c4190c487e6bcc94e30e6ac8210643f03\",\n",
      "    \"1b245613a55110caa960eb8ab48dc55859eddf84a83e0a0fc8ece3804e65694f\",\n",
      "    \"3c7f77781d9799395a9cf9e3a280015901da6678cc12aec8e6d00c8e91422d41\",\n",
      "    \"633aa62cecd61ac23627646468f11223d141976e0e839ac90e7674c7ffb29274\",\n",
      "    \"0e68b2d000aaa531f0cd9efa3ecab8357f835c63f00565d7e7f849033b87ec60\",\n",
      "    \"07c676b04740509b833fe87c5af7f18024f44dab8b99b16acdadad8a1638c927\",\n",
      "    \"258d07e14bfeaf053d0d5d35306f0ce40e7b59bbba2d03b1f81c34240325d096\",\n",
      "    \"4a0ab282c69a1c61973bf79ebf5f2d5fed0acb184767873d4fab64f149f0f13c\",\n",
      "    \"53c22134a04a057aa671b2f75948758635f70b238ec2965b8ea42df0286997b3\",\n",
      "    \"64b82e21e4add7253e57d8e36b2e83bd1f59006ac4483a9e5712bfaa0f29468b\",\n",
      "    \"148a874bcde6d77c4b51b89e1160b04f239a178c337b677c31366bf54e17afba\",\n",
      "    \"67042e858a33aec0aedc3277c91661ba781c1124469040a0ccd8b6765f641e66\",\n",
      "    \"75da169288162cee8e9c3d090e9ebbf9c16d244fc9518f9c3a85f789dac22083\",\n",
      "    \"10f1b70848b46fe21bc108470ea148fd92196dbf9140a9a302f57a9a0a5c0696\",\n",
      "    \"1a9cafec9a54304bb6616bd7daf7a2cb3a6766817a4d98593982c9b3f7f88f28\",\n",
      "    \"5d33751ab37cef44ecb08b69934b7d80f3aff686ceb26f6e1ce8ed30fbeb281b\",\n",
      "    \"35bdecae1cc8563d3ce535aff6aaed334b5cf18e09dda9a607f6b52435234e1d\",\n",
      "    \"703a9d2d362e08224fb0dd826dbb07ac7319615198287a55215564caf0b080a7\",\n",
      "    \"4496d8668cec74410e4d4ed1b477fd2a261a77b27ad8c62a39abe6488f812867\",\n",
      "    \"2d8bca4348e4fa4bdbcfddef11f8b3a27e20f304d8e2fb3d936e5e5c2637795c\",\n",
      "    \"5a96a0a46f6e8219f9953461b2632e82249d7cc63248e434a16e9ecf6de3ca84\",\n",
      "    \"72e44c94a1c832a8b8f83f6f09314f9ab10551cd45a87cac8a1c30a0505f841b\",\n",
      "    \"552cbe69551bfe3b9576a48fd8a24b8db16ef4f2033de54a7089aa29769216f6\",\n",
      "    \"46f34e3ecf9e39dab52635c57859dd112a143e54f7aabebf1814ea0a0e1b7868\",\n",
      "    \"15583c260a86c0c32ffe5ae207996c0a5a951c1c2ecdcf264b7b49313fb246e1\",\n",
      "    \"22572d868dfda431626be22880c0cc8fc1f18e7b78dee0377adc3a41fe5254b3\",\n",
      "    \"094e3ae79abf0e15a206dc600a6702ef3ce88cfd9d299c765456e58a734c9b89\",\n",
      "    \"4d44f2182fe372ebdaebf2be9457d9cf3517c5d433a22e73a447996f12b7bef3\",\n",
      "    \"2e7a71736765dab896377ef0dc3bc613c06593af3a186826c550c0ad0be62982\",\n",
      "    \"27db258a24a32fb23092b89a0094669f306492f049f89cff3e2fd1caf5ec0751\",\n",
      "    \"5d5b3964290c1344fdac67986145fcfb6f8e4e3f3f7bda1956c772a745bb79b7\",\n",
      "    \"6d6d78b6587e002ceb2026b14cec3d82de5361e9508ff30195afb6e823c2dd74\",\n",
      "    \"1ea17559b270f84187a0b1ce397e5903f816c044da458daebb8632a56007973f\",\n",
      "    \"3c1118860de1d8deb9a307877dccf7a5296273d1c3f27da0345ec2e6925c3483\",\n",
      "    \"6c0189c6a4524a33d95af56c70106fdc9dd18ce67676c29f8f02155858b13cd9\",\n",
      "    \"0af6f776a37c404e239a1a49f1894ec692712b76fb5aa33156ac44838ebbded6\",\n",
      "    \"4b1f38a3d8f7a1cf14a867979735f5d7bd2276e21174bee3aedcb92860f267e1\",\n",
      "    \"09fc15c0ba2b4847c532db1c2bc960391c148b0d08ad5ff70acde16afff599e9\",\n",
      "    \"7d5b3e0430ff3e920aacbdbf573830cc0e86e8a21956f6895c9bb5674c706ba5\"\n",
      "  ]\n",
      "}\n"
     ]
    }
   ],
   "source": [
    "#mine some blocks to get some coins\n",
    "!\"C:\\Program Files\\Bitcoin\\daemon\\bitcoin-cli\" -regtest -rpcwallet=$krisha -generate 200"
   ]
  },
  {
   "cell_type": "code",
   "execution_count": 117,
   "id": "96b41311",
   "metadata": {},
   "outputs": [
    {
     "name": "stderr",
     "output_type": "stream",
     "text": [
      "error code: -19\n",
      "error message:\n",
      "Wallet file not specified (must request wallet RPC through /wallet/<filename> uri-path).\n",
      "Try adding \"-rpcwallet=<filename>\" option to bitcoin-cli command line.\n"
     ]
    }
   ],
   "source": [
    "#checking balance\n",
    "!\"C:\\Program Files\\Bitcoin\\daemon\\bitcoin-cli\" -regtest getbalance"
   ]
  },
  {
   "cell_type": "code",
   "execution_count": 118,
   "id": "9159db99",
   "metadata": {},
   "outputs": [
    {
     "name": "stderr",
     "output_type": "stream",
     "text": [
      "error code: -19\n",
      "error message:\n",
      "Wallet file not specified (must request wallet RPC through /wallet/<filename> uri-path).\n",
      "Try adding \"-rpcwallet=<filename>\" option to bitcoin-cli command line.\n"
     ]
    }
   ],
   "source": [
    "!\"C:\\Program Files\\Bitcoin\\daemon\\bitcoin-cli\" -regtest getwalletinfo"
   ]
  },
  {
   "cell_type": "code",
   "execution_count": 119,
   "id": "0297b2d0",
   "metadata": {},
   "outputs": [
    {
     "name": "stderr",
     "output_type": "stream",
     "text": [
      "error code: -19\n",
      "error message:\n",
      "Wallet file not specified (must request wallet RPC through /wallet/<filename> uri-path).\n",
      "Try adding \"-rpcwallet=<filename>\" option to bitcoin-cli command line.\n"
     ]
    }
   ],
   "source": [
    "!\"C:\\Program Files\\Bitcoin\\daemon\\bitcoin-cli\" -regtest getaddressinfo \"bcrt1q7k4m0n9ewjnzz8pgxytstnnjgvsu6zfetzwntu\""
   ]
  },
  {
   "cell_type": "code",
   "execution_count": 120,
   "id": "b0bd7428",
   "metadata": {},
   "outputs": [
    {
     "name": "stderr",
     "output_type": "stream",
     "text": [
      "error code: -4\n",
      "error message:\n",
      "Wallet file verification failed. Failed to create database path 'C:\\Users\\VICTUS\\AppData\\Roaming\\Bitcoin\\regtest\\wallets\\$nikisha'. Database already exists.\n"
     ]
    }
   ],
   "source": [
    "#creating new wallet for sender\n",
    "!\"C:\\Program Files\\Bitcoin\\daemon\\bitcoin-cli\" -regtest createwallet $nikisha false\n"
   ]
  },
  {
   "cell_type": "code",
   "execution_count": 121,
   "id": "9d26c94a",
   "metadata": {},
   "outputs": [
    {
     "name": "stdout",
     "output_type": "stream",
     "text": [
      "1.50000000\n"
     ]
    }
   ],
   "source": [
    "#checking balance before transaction in nikisha\n",
    "!\"C:\\Program Files\\Bitcoin\\daemon\\bitcoin-cli\" -regtest -rpcwallet=$nikisha getbalance"
   ]
  },
  {
   "cell_type": "code",
   "execution_count": 122,
   "id": "6023a0fd",
   "metadata": {},
   "outputs": [
    {
     "name": "stdout",
     "output_type": "stream",
     "text": [
      "11211.00000000\n"
     ]
    }
   ],
   "source": [
    "#checking balance before transaction in krisha\n",
    "!\"C:\\Program Files\\Bitcoin\\daemon\\bitcoin-cli\" -regtest -rpcwallet=$krisha getbalance"
   ]
  },
  {
   "cell_type": "code",
   "execution_count": 123,
   "id": "b6368868",
   "metadata": {},
   "outputs": [
    {
     "name": "stdout",
     "output_type": "stream",
     "text": [
      "bcrt1q2tsqxkxrva962y7qn2z8pm0gkkgu96sxfh4wqe\n"
     ]
    }
   ],
   "source": [
    "!\"C:\\Program Files\\Bitcoin\\daemon\\bitcoin-cli\" -regtest -rpcwallet=$nikisha getnewaddress"
   ]
  },
  {
   "cell_type": "code",
   "execution_count": 124,
   "id": "c2f7dc03",
   "metadata": {},
   "outputs": [
    {
     "name": "stderr",
     "output_type": "stream",
     "text": [
      "error code: -6\n",
      "error message:\n",
      "Fee estimation failed. Fallbackfee is disabled. Wait a few blocks or enable -fallbackfee.\n"
     ]
    }
   ],
   "source": [
    "#making transaction in nikisha public key for 0.5\n",
    "!\"C:\\Program Files\\Bitcoin\\daemon\\bitcoin-cli\" --regtest --rpcwallet=$krisha sendtoaddress bcrt1q4fmhv2ap4slp5s8wy5ptz2qdg3d6s2gpundvnt 0.0005"
   ]
  },
  {
   "cell_type": "code",
   "execution_count": 125,
   "id": "38c7d938",
   "metadata": {},
   "outputs": [
    {
     "name": "stdout",
     "output_type": "stream",
     "text": [
      "8fa9150db640e5c2a9aea8da297647000ecc760ba6724f2b80f466f66e555580\n"
     ]
    }
   ],
   "source": [
    "!\"C:\\Program Files\\Bitcoin\\daemon\\bitcoin-cli\" -regtest -rpcwallet=$krisha -named sendtoaddress address=\"bcrt1q7upqqmkxr8gqta0v556jwkchx53es7kz7pc2mk\" amount=0.5 fee_rate=25"
   ]
  },
  {
   "cell_type": "code",
   "execution_count": 126,
   "id": "d8d56b2e",
   "metadata": {},
   "outputs": [
    {
     "name": "stdout",
     "output_type": "stream",
     "text": [
      "1.50000000\n"
     ]
    }
   ],
   "source": [
    "#checking balance in nikisha after transaction\n",
    "!\"C:\\Program Files\\Bitcoin\\daemon\\bitcoin-cli\" -regtest -rpcwallet=$nikisha getbalance"
   ]
  },
  {
   "cell_type": "code",
   "execution_count": 127,
   "id": "d820ff7b",
   "metadata": {},
   "outputs": [
    {
     "name": "stdout",
     "output_type": "stream",
     "text": [
      "11210.49996475\n"
     ]
    }
   ],
   "source": [
    "!\"C:\\Program Files\\Bitcoin\\daemon\\bitcoin-cli\" -regtest -rpcwallet=$krisha getbalance"
   ]
  },
  {
   "cell_type": "code",
   "execution_count": 128,
   "id": "d13427a9",
   "metadata": {},
   "outputs": [
    {
     "name": "stdout",
     "output_type": "stream",
     "text": [
      "bcrt1qd3lvnq6rse6kgqgy0c44472unj5ctzg36swql3\n"
     ]
    }
   ],
   "source": [
    "!\"C:\\Program Files\\Bitcoin\\daemon\\bitcoin-cli\" -regtest -rpcwallet=$nikisha getnewaddress"
   ]
  },
  {
   "cell_type": "code",
   "execution_count": 113,
   "id": "27a0992d",
   "metadata": {},
   "outputs": [
    {
     "name": "stdout",
     "output_type": "stream",
     "text": [
      "fbf1c8f4b1ef9dc964d277ed05974aa2a27589c6bde2bf99c7706225d6cb9913\n"
     ]
    }
   ],
   "source": [
    "!\"C:\\Program Files\\Bitcoin\\daemon\\bitcoin-cli\" -regtest -rpcwallet=$krisha -named sendtoaddress address=\"bcrt1q7upqqmkxr8gqta0v556jwkchx53es7kz7pc2mk\" amount=0.5 fee_rate=25"
   ]
  },
  {
   "cell_type": "code",
   "execution_count": null,
   "id": "3ef17b78",
   "metadata": {},
   "outputs": [],
   "source": []
  },
  {
   "cell_type": "code",
   "execution_count": null,
   "id": "3beb13b3",
   "metadata": {},
   "outputs": [],
   "source": []
  },
  {
   "cell_type": "code",
   "execution_count": null,
   "id": "fb0a159a",
   "metadata": {},
   "outputs": [],
   "source": []
  }
 ],
 "metadata": {
  "kernelspec": {
   "display_name": "Python 3 (ipykernel)",
   "language": "python",
   "name": "python3"
  },
  "language_info": {
   "codemirror_mode": {
    "name": "ipython",
    "version": 3
   },
   "file_extension": ".py",
   "mimetype": "text/x-python",
   "name": "python",
   "nbconvert_exporter": "python",
   "pygments_lexer": "ipython3",
   "version": "3.10.6"
  }
 },
 "nbformat": 4,
 "nbformat_minor": 5
}
